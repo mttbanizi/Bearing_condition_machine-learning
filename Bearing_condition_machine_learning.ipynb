{
  "nbformat": 4,
  "nbformat_minor": 0,
  "metadata": {
    "colab": {
      "provenance": [],
      "gpuType": "T4",
      "mount_file_id": "1sO4Z2Ji7m-jkISCeHco1rNfa5_cbvLah",
      "authorship_tag": "ABX9TyMPDGO8sK6GZfOsG0LFWi+f",
      "include_colab_link": true
    },
    "kernelspec": {
      "name": "python3",
      "display_name": "Python 3"
    },
    "language_info": {
      "name": "python"
    },
    "accelerator": "GPU"
  },
  "cells": [
    {
      "cell_type": "markdown",
      "metadata": {
        "id": "view-in-github",
        "colab_type": "text"
      },
      "source": [
        "<a href=\"https://colab.research.google.com/github/mttbanizi/Bearing_condition_machine-learning/blob/main/Bearing_condition_machine_learning.ipynb\" target=\"_parent\"><img src=\"https://colab.research.google.com/assets/colab-badge.svg\" alt=\"Open In Colab\"/></a>"
      ]
    },
    {
      "cell_type": "code",
      "execution_count": 3,
      "metadata": {
        "id": "7Izqa34xZ6iF"
      },
      "outputs": [],
      "source": [
        "import seaborn as sns\n",
        "import numpy as np\n",
        "import pandas as pd\n",
        "import os\n",
        "import matplotlib.pyplot as plt\n",
        "import scipy.io # To use the '.mat' files\n"
      ]
    },
    {
      "cell_type": "code",
      "source": [
        "path = \"/content/drive/MyDrive/0_load_48_KHz/IR007_0.mat\"\n",
        "mat = scipy.io.loadmat(path)"
      ],
      "metadata": {
        "id": "iG52h-NjbIu7"
      },
      "execution_count": 5,
      "outputs": []
    },
    {
      "cell_type": "code",
      "source": [
        "for root, dirs, files in os.walk(\"/content/drive/MyDrive/0_load_48_KHz\", topdown=False):\n",
        "    for file_name in files:\n",
        "        path = os.path.join(root, file_name)\n",
        "        print(path)"
      ],
      "metadata": {
        "colab": {
          "base_uri": "https://localhost:8080/"
        },
        "id": "oBSH4sAE1FwU",
        "outputId": "28c5aba4-87dd-4db2-b827-9b467e221ce6"
      },
      "execution_count": 4,
      "outputs": [
        {
          "output_type": "stream",
          "name": "stdout",
          "text": [
            "/content/drive/MyDrive/0_load_48_KHz/IR007_0.mat\n",
            "/content/drive/MyDrive/0_load_48_KHz/B007_0.mat\n",
            "/content/drive/MyDrive/0_load_48_KHz/OR007@3_0.mat\n",
            "/content/drive/MyDrive/0_load_48_KHz/OR007@6_0.mat\n",
            "/content/drive/MyDrive/0_load_48_KHz/OR007@12_0.mat\n"
          ]
        }
      ]
    },
    {
      "cell_type": "code",
      "source": [
        "mat.items()"
      ],
      "metadata": {
        "colab": {
          "base_uri": "https://localhost:8080/"
        },
        "id": "gSYHceYnbUCE",
        "outputId": "0d8da951-c1b5-4057-efd8-b586dfe35407"
      },
      "execution_count": 6,
      "outputs": [
        {
          "output_type": "execute_result",
          "data": {
            "text/plain": [
              "dict_items([('__header__', b'MATLAB 5.0 MAT-file, Platform: PCWIN, Created on: Mon Jan 31 15:28:48 2000'), ('__version__', '1.0'), ('__globals__', []), ('X109_DE_time', array([[ 0.010016  ],\n",
              "       [-0.023788  ],\n",
              "       [-0.00792933],\n",
              "       ...,\n",
              "       [-0.085136  ],\n",
              "       [-0.05800933],\n",
              "       [ 0.00542533]])), ('X109_FE_time', array([[-0.35757879],\n",
              "       [-0.24455101],\n",
              "       [-0.1870096 ],\n",
              "       ...,\n",
              "       [-1.17137879],\n",
              "       [-1.11630343],\n",
              "       [-0.98930131]])), ('X109RPM', array([[1796]], dtype=uint16))])"
            ]
          },
          "metadata": {},
          "execution_count": 6
        }
      ]
    },
    {
      "cell_type": "code",
      "source": [
        "list(mat.keys())"
      ],
      "metadata": {
        "colab": {
          "base_uri": "https://localhost:8080/"
        },
        "id": "6zgsiilJb6ZA",
        "outputId": "2c1fec34-ba6e-46b2-c970-10e4e2ffb5d0"
      },
      "execution_count": 7,
      "outputs": [
        {
          "output_type": "execute_result",
          "data": {
            "text/plain": [
              "['__header__',\n",
              " '__version__',\n",
              " '__globals__',\n",
              " 'X109_DE_time',\n",
              " 'X109_FE_time',\n",
              " 'X109RPM']"
            ]
          },
          "metadata": {},
          "execution_count": 7
        }
      ]
    },
    {
      "cell_type": "code",
      "source": [
        "key_name = list(mat.keys())[3]\n",
        "key_name"
      ],
      "metadata": {
        "colab": {
          "base_uri": "https://localhost:8080/",
          "height": 35
        },
        "id": "gkYxq7zfcFmD",
        "outputId": "9f96fad5-dc1e-471c-d7b6-32865b29e2d8"
      },
      "execution_count": 8,
      "outputs": [
        {
          "output_type": "execute_result",
          "data": {
            "text/plain": [
              "'X109_DE_time'"
            ],
            "application/vnd.google.colaboratory.intrinsic+json": {
              "type": "string"
            }
          },
          "metadata": {},
          "execution_count": 8
        }
      ]
    },
    {
      "cell_type": "code",
      "source": [
        "DE_data = mat.get(key_name)\n",
        "DE_data"
      ],
      "metadata": {
        "colab": {
          "base_uri": "https://localhost:8080/"
        },
        "id": "2SFLxAItclMq",
        "outputId": "ad24ce2c-c081-47eb-e194-1015f2c4f7b0"
      },
      "execution_count": 9,
      "outputs": [
        {
          "output_type": "execute_result",
          "data": {
            "text/plain": [
              "array([[ 0.010016  ],\n",
              "       [-0.023788  ],\n",
              "       [-0.00792933],\n",
              "       ...,\n",
              "       [-0.085136  ],\n",
              "       [-0.05800933],\n",
              "       [ 0.00542533]])"
            ]
          },
          "metadata": {},
          "execution_count": 9
        }
      ]
    },
    {
      "cell_type": "code",
      "source": [
        "fault = np.full((len(DE_data), 1), file_name[:-4])"
      ],
      "metadata": {
        "id": "hy-Ec3Pv2hXY"
      },
      "execution_count": 11,
      "outputs": []
    },
    {
      "cell_type": "code",
      "source": [
        "df_temp = pd.DataFrame({'DE_data':np.ravel(DE_data) , 'fault':np.ravel(fault)})\n"
      ],
      "metadata": {
        "id": "fghnc-ob3G3T"
      },
      "execution_count": 12,
      "outputs": []
    },
    {
      "cell_type": "code",
      "source": [
        "df=pd.DataFrame(columns=['DE_data','fault'])\n",
        "\n",
        "for root, dirs, files in os.walk(\"/content/drive/MyDrive/0_load_48_KHz\", topdown=False):\n",
        "    for file_name in files:\n",
        "        path = os.path.join(root, file_name)\n",
        "        print(path)\n",
        "\n",
        "        mat = scipy.io.loadmat(path)\n",
        "\n",
        "        key_name = list(mat.keys())[3]\n",
        "        DE_data = mat.get(key_name)\n",
        "        fault = np.full((len(DE_data), 1), file_name[:-4])\n",
        "\n",
        "        df_temp = pd.DataFrame({'DE_data':np.ravel(DE_data) , 'fault':np.ravel(fault)})\n",
        "\n",
        "        df = pd.concat([df,df_temp],axis=0)\n",
        "        print(df['fault'].unique())\n",
        "\n",
        "df.to_csv('all_faults.csv',index=False)"
      ],
      "metadata": {
        "colab": {
          "base_uri": "https://localhost:8080/"
        },
        "id": "b_4rZM0v2vNM",
        "outputId": "746c8376-d4b1-4c57-a1a4-84d4e914cfac"
      },
      "execution_count": 13,
      "outputs": [
        {
          "output_type": "stream",
          "name": "stdout",
          "text": [
            "/content/drive/MyDrive/0_load_48_KHz/IR007_0.mat\n",
            "['IR007_0']\n",
            "/content/drive/MyDrive/0_load_48_KHz/B007_0.mat\n",
            "['IR007_0' 'B007_0']\n",
            "/content/drive/MyDrive/0_load_48_KHz/OR007@3_0.mat\n",
            "['IR007_0' 'B007_0' 'OR007@3_0']\n",
            "/content/drive/MyDrive/0_load_48_KHz/OR007@6_0.mat\n",
            "['IR007_0' 'B007_0' 'OR007@3_0' 'OR007@6_0']\n",
            "/content/drive/MyDrive/0_load_48_KHz/OR007@12_0.mat\n",
            "['IR007_0' 'B007_0' 'OR007@3_0' 'OR007@6_0' 'OR007@12_0']\n"
          ]
        }
      ]
    },
    {
      "cell_type": "code",
      "source": [
        "df.to_csv('/content/drive/MyDrive/0_load_48_KHz/all_faults.csv',index=False)"
      ],
      "metadata": {
        "id": "7XaGHyMB3Z6w"
      },
      "execution_count": 14,
      "outputs": []
    },
    {
      "cell_type": "code",
      "source": [
        "df = pd.read_csv('/content/drive/MyDrive/0_load_48_KHz/all_faults.csv')\n"
      ],
      "metadata": {
        "id": "wPViE9DCdN26"
      },
      "execution_count": 15,
      "outputs": []
    },
    {
      "cell_type": "code",
      "source": [
        "from sklearn.preprocessing import LabelEncoder\n",
        "from tensorflow.keras.utils import to_categorical\n",
        "\n",
        "win_len=1000\n",
        "stride=200\n",
        "\n",
        "X=[]\n",
        "Y=[]\n",
        "\n",
        "\n",
        "for k in df['fault'].unique():\n",
        "\n",
        "    df_temp_2 = df[df['fault']==k]\n",
        "\n",
        "    for i in np.arange(0,len(df_temp_2)-(win_len),stride):\n",
        "        temp = df_temp_2.iloc[i:i+win_len,:-1].values\n",
        "        temp = temp.reshape((1,-1))\n",
        "        X.append(temp)\n",
        "        Y.append(df_temp_2.iloc[i+win_len,-1])\n",
        "\n",
        "X=np.array(X)\n",
        "X=X.reshape((X.shape[0],win_len))\n",
        "\n",
        "\n",
        "\n",
        "Y=np.array(Y)\n",
        "encoder= LabelEncoder()\n",
        "encoder.fit(Y)\n",
        "encoded_Y = encoder.transform(Y)\n",
        "OHE_Y = to_categorical(encoded_Y)"
      ],
      "metadata": {
        "id": "yB3NW5WCaWoI"
      },
      "execution_count": 16,
      "outputs": []
    },
    {
      "cell_type": "code",
      "source": [
        "l.var()"
      ],
      "metadata": {
        "id": "KNH-As5tneZc",
        "outputId": "ba574ab3-6c70-4754-b782-7f3dc06c16f0",
        "colab": {
          "base_uri": "https://localhost:8080/"
        }
      },
      "execution_count": null,
      "outputs": [
        {
          "output_type": "execute_result",
          "data": {
            "text/plain": [
              "tensor(0.0852)"
            ]
          },
          "metadata": {},
          "execution_count": 5
        }
      ]
    },
    {
      "cell_type": "code",
      "source": [
        "5+2"
      ],
      "metadata": {
        "colab": {
          "base_uri": "https://localhost:8080/"
        },
        "id": "dI9jzLZ4axXu",
        "outputId": "0adabe42-cd53-4fba-9c74-a6cc6cd8cd6c"
      },
      "execution_count": null,
      "outputs": [
        {
          "output_type": "execute_result",
          "data": {
            "text/plain": [
              "7"
            ]
          },
          "metadata": {},
          "execution_count": 2
        }
      ]
    },
    {
      "cell_type": "code",
      "source": [
        "l[1:, -1 , :]"
      ],
      "metadata": {
        "colab": {
          "base_uri": "https://localhost:8080/"
        },
        "id": "gtwNiU3VamBY",
        "outputId": "bfbbc6d0-86f3-47cd-a48d-3c5958a15820"
      },
      "execution_count": null,
      "outputs": [
        {
          "output_type": "execute_result",
          "data": {
            "text/plain": [
              "tensor([[0.2583, 0.6084, 0.6042, 0.6416, 0.4229],\n",
              "        [0.4173, 0.7210, 0.3459, 0.2429, 0.8881]])"
            ]
          },
          "metadata": {},
          "execution_count": 3
        }
      ]
    },
    {
      "cell_type": "code",
      "source": [
        "l[:,:,-1]"
      ],
      "metadata": {
        "colab": {
          "base_uri": "https://localhost:8080/"
        },
        "id": "zeSZGzVHa6zz",
        "outputId": "0633a4fe-b032-421a-f8d9-7bd6d517f12d"
      },
      "execution_count": null,
      "outputs": [
        {
          "output_type": "execute_result",
          "data": {
            "text/plain": [
              "tensor([[0.2405, 0.5932, 0.5799, 0.9339],\n",
              "        [0.3124, 0.8340, 0.9623, 0.6151],\n",
              "        [0.8195, 0.7295, 0.2670, 0.8590]])"
            ]
          },
          "metadata": {},
          "execution_count": 6
        }
      ]
    },
    {
      "cell_type": "code",
      "source": [
        "l[-2,:,:]"
      ],
      "metadata": {
        "colab": {
          "base_uri": "https://localhost:8080/"
        },
        "id": "fX4RaG-tbCXa",
        "outputId": "34acf455-8953-498f-b1d1-ad28713214ec"
      },
      "execution_count": null,
      "outputs": [
        {
          "output_type": "execute_result",
          "data": {
            "text/plain": [
              "tensor([[0.2161, 0.8613, 0.1472, 0.2214, 0.3124],\n",
              "        [0.9060, 0.8641, 0.1854, 0.4803, 0.8340],\n",
              "        [0.8982, 0.1762, 0.1969, 0.8939, 0.9623],\n",
              "        [0.1628, 0.5846, 0.4998, 0.6003, 0.6151]])"
            ]
          },
          "metadata": {},
          "execution_count": 8
        }
      ]
    },
    {
      "cell_type": "code",
      "source": [
        "l[1,2]"
      ],
      "metadata": {
        "colab": {
          "base_uri": "https://localhost:8080/"
        },
        "id": "HLRYWgsggUeO",
        "outputId": "6fc37e44-54cd-4477-be96-11a8b153b60d"
      },
      "execution_count": null,
      "outputs": [
        {
          "output_type": "execute_result",
          "data": {
            "text/plain": [
              "tensor([0.8982, 0.1762, 0.1969, 0.8939, 0.9623])"
            ]
          },
          "metadata": {},
          "execution_count": 9
        }
      ]
    },
    {
      "cell_type": "code",
      "source": [
        "  l[1,1]"
      ],
      "metadata": {
        "colab": {
          "base_uri": "https://localhost:8080/"
        },
        "id": "f4L9bL21wtKf",
        "outputId": "5a77f958-e095-4110-f43b-0507cdaf92b9"
      },
      "execution_count": null,
      "outputs": [
        {
          "output_type": "execute_result",
          "data": {
            "text/plain": [
              "tensor([0.2052, 0.0856, 0.4079, 0.8893, 0.2771])"
            ]
          },
          "metadata": {},
          "execution_count": 6
        }
      ]
    },
    {
      "cell_type": "code",
      "source": [
        "l"
      ],
      "metadata": {
        "id": "tYiEiO7Qw3KG",
        "outputId": "5b924824-01ce-4777-f35f-4853aaad450e",
        "colab": {
          "base_uri": "https://localhost:8080/"
        }
      },
      "execution_count": null,
      "outputs": [
        {
          "output_type": "execute_result",
          "data": {
            "text/plain": [
              "tensor([[[0.8024, 0.4830, 0.1244, 0.0623, 0.4106],\n",
              "         [0.7999, 0.1068, 0.6359, 0.8178, 0.0772],\n",
              "         [0.7675, 0.0701, 0.7380, 0.0139, 0.7192],\n",
              "         [0.0712, 0.6802, 0.7633, 0.3418, 0.2037]],\n",
              "\n",
              "        [[0.9713, 0.9200, 0.1783, 0.7675, 0.7740],\n",
              "         [0.2052, 0.0856, 0.4079, 0.8893, 0.2771],\n",
              "         [0.5076, 0.7150, 0.9338, 0.4961, 0.5271],\n",
              "         [0.2321, 0.2839, 0.7435, 0.1664, 0.0639]],\n",
              "\n",
              "        [[0.1146, 0.1472, 0.8061, 0.5035, 0.3159],\n",
              "         [0.8026, 0.6327, 0.3144, 0.0263, 0.1568],\n",
              "         [0.8505, 0.7732, 0.6105, 0.3535, 0.5210],\n",
              "         [0.5527, 0.2040, 0.6038, 0.2769, 0.2897]]])"
            ]
          },
          "metadata": {},
          "execution_count": 8
        }
      ]
    }
  ]
}